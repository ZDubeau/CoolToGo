{
 "cells": [
  {
   "cell_type": "code",
   "execution_count": null,
   "metadata": {},
   "outputs": [],
   "source": [
    "    ,\n",
    "\n",
    "    \"\"\"\n",
    "    CREATE TABLE IF NOT EXISTS CoolToGo (\n",
    "        id SERIAL PRIMARY KEY,\n",
    "        Lieu_Event TEXT,\n",
    "        Names TEXT,\n",
    "        Types TEXT,\n",
    "        Latitude FLOAT,\n",
    "        Longitude FLOAT,\n",
    "        Adresse1 VARCHAR(50),\n",
    "        Adresse2 VARCHAR(50),\n",
    "        Code_postal VARCHAR(10),\n",
    "        Ville TEXT,\n",
    "        Description_Teaser VARCHAR(60),\n",
    "        Description_ VARCHAR(60),\n",
    "        Images VARCHAR(50),\n",
    "        Publics VARCHAR(20),\n",
    "        Categories VARCHAR(40),\n",
    "        Accessibilité VARCHAR(40),\n",
    "        Payant BOOL,\n",
    "        Plus_d_infos_et_horaires VARCHAR(60),\n",
    "        Date_début DATE,\n",
    "        Date_fin DATE\n",
    "    )\n",
    "    \"\"\""
   ]
  }
 ],
 "metadata": {
  "kernelspec": {
   "display_name": "Python 3",
   "language": "python",
   "name": "python3"
  },
  "language_info": {
   "codemirror_mode": {
    "name": "ipython",
    "version": 3
   },
   "file_extension": ".py",
   "mimetype": "text/x-python",
   "name": "python",
   "nbconvert_exporter": "python",
   "pygments_lexer": "ipython3",
   "version": "3.8.1"
  }
 },
 "nbformat": 4,
 "nbformat_minor": 4
}
