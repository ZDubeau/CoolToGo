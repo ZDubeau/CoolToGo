{
 "cells": [
  {
   "cell_type": "code",
   "execution_count": 3,
   "metadata": {},
   "outputs": [
    {
     "name": "stdout",
     "output_type": "stream",
     "text": [
      "{'query': {'identifiers': ['sitraGEO105728', 'sitraGEO102850'], 'searchFields': 'NOM_DESCRIPTION_CRITERES', 'first': 0, 'count': 20, 'order': 'IDENTIFIANT', 'asc': True, 'apiKey': 'ALrtqQmv', 'projetId': 4364}, 'numFound': 2, 'objetsTouristiques': [{'type': 'TERRITOIRE', 'id': 239, 'nom': {'libelleFr': 'Vallée du Grésivaudan - Haut Grésivaudan'}, 'identifier': 'sitraGEO105728', 'informations': {}, 'presentation': {}, 'localisation': {'geolocalisation': {'valide': False}}, 'informationsTerritoire': {'territoireType': {'elementReferenceType': 'TerritoireType', 'id': 3221, 'libelleFr': 'Communauté de Communes', 'ordre': 11, 'description': \"Territoire de l'EPCI (Etablissement public de coopération intercommunale) regroupant plusieurs communes d'un seul tenant et sans enclave.\\r\\nLes communautés de communes ont pour objet d'associer des communes au sein d'un espace de solidarité, en vue de l'élaboration d'un projet commun de développement et d'aménagement de l'espace.\"}, 'destination': False, 'sportsHiver': {}, 'hebergement': {'parkingCampingCar': False}}}, {'type': 'TERRITOIRE', 'id': 2899, 'nom': {'libelleFr': 'Vallée du Grésivaudan'}, 'identifier': 'sitraGEO102850', 'informations': {}, 'presentation': {'descriptifCourt': {'libelleFr': 'Blottie au pied de la chaîne de Belledonne et des contreforts de la Chartreuse, la vallée du Grésivaudan s\\'étire sur près de 40 kilomètres le long de l\\'Isère, de Grenoble jusqu\\'aux portes de la Savoie. Charmé par ses paysages, Louis XII l\\'avait surnommé \"le plus beau jardin de France\".'}}, 'localisation': {'geolocalisation': {'valide': False}}, 'informationsTerritoire': {'territoireType': {'elementReferenceType': 'TerritoireType', 'id': 3220, 'libelleFr': 'Territorial', 'ordre': 7, 'description': \"Territoires de promotion à l'échelle d'un département en principe définis par le CDT. Ces territoires sont utilisés pour la promotion externe, les statistiques des observatoires...\"}, 'destination': False, 'sportsHiver': {}, 'hebergement': {'parkingCampingCar': False}}}], 'formatVersion': 'v002'}\n"
     ]
    }
   ],
   "source": [
    "import requests\n",
    "import json\n",
    "\n",
    "project_ID = '4364'\n",
    "api_KEY = 'ALrtqQmv'\n",
    "list_identifier = [\"sitraGEO105728\",\"sitraGEO102850\"] # Example\n",
    "\n",
    "def retrive_data_by_identifier(project_ID,api_KEY,list_identifier):\n",
    "    \n",
    "    url = 'http://api.apidae-tourisme.com/api/v002/recherche/list-objets-touristiques?query={'\n",
    "    url += '\"projetId\":\"' + project_ID + '\",'\n",
    "    url += '\"apiKey\":\"' + api_KEY + '\",'\n",
    "    first = True\n",
    "    for value in list_identifier :\n",
    "        if first :\n",
    "            url += '\"identifiers\":[\"'+value+'\"'\n",
    "            first = False\n",
    "        else :\n",
    "            url += ',\"'+value+'\"'\n",
    "    url += ']}'\n",
    "    #print(url)\n",
    "    req = requests.get(url)\n",
    "\n",
    "    return req.json()\n",
    "\n",
    "print(retrive_data_by_identifier(project_ID,api_KEY,list_identifier))"
   ]
  },
  {
   "cell_type": "code",
   "execution_count": null,
   "metadata": {},
   "outputs": [],
   "source": []
  },
  {
   "cell_type": "code",
   "execution_count": null,
   "metadata": {},
   "outputs": [],
   "source": []
  }
 ],
 "metadata": {
  "kernelspec": {
   "display_name": "Python 3",
   "language": "python",
   "name": "python3"
  },
  "language_info": {
   "codemirror_mode": {
    "name": "ipython",
    "version": 3
   },
   "file_extension": ".py",
   "mimetype": "text/x-python",
   "name": "python",
   "nbconvert_exporter": "python",
   "pygments_lexer": "ipython3",
   "version": "3.8.1"
  }
 },
 "nbformat": 4,
 "nbformat_minor": 4
}
