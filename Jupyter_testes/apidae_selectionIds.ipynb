{
 "cells": [
  {
   "cell_type": "code",
   "execution_count": 4,
   "metadata": {
    "scrolled": true
   },
   "outputs": [
    {
     "ename": "ModuleNotFoundError",
     "evalue": "No module named 'DB_functions'",
     "output_type": "error",
     "traceback": [
      "\u001b[0;31m---------------------------------------------------------------------------\u001b[0m",
      "\u001b[0;31mModuleNotFoundError\u001b[0m                       Traceback (most recent call last)",
      "\u001b[0;32m<ipython-input-4-3ff4c9e9ecb9>\u001b[0m in \u001b[0;36m<module>\u001b[0;34m\u001b[0m\n\u001b[1;32m      1\u001b[0m \u001b[0;32mimport\u001b[0m \u001b[0mrequests\u001b[0m\u001b[0;34m\u001b[0m\u001b[0;34m\u001b[0m\u001b[0m\n\u001b[1;32m      2\u001b[0m \u001b[0;32mimport\u001b[0m \u001b[0mjson\u001b[0m\u001b[0;34m\u001b[0m\u001b[0;34m\u001b[0m\u001b[0m\n\u001b[0;32m----> 3\u001b[0;31m \u001b[0;32mimport\u001b[0m \u001b[0mDB_functions\u001b[0m \u001b[0;32mas\u001b[0m \u001b[0mDBdf\u001b[0m\u001b[0;34m\u001b[0m\u001b[0;34m\u001b[0m\u001b[0m\n\u001b[0m\u001b[1;32m      4\u001b[0m \u001b[0;32mimport\u001b[0m \u001b[0mapidae_extraction\u001b[0m \u001b[0;32mas\u001b[0m \u001b[0mapex\u001b[0m\u001b[0;34m\u001b[0m\u001b[0;34m\u001b[0m\u001b[0m\n\u001b[1;32m      5\u001b[0m \u001b[0;34m\u001b[0m\u001b[0m\n",
      "\u001b[0;31mModuleNotFoundError\u001b[0m: No module named 'DB_functions'"
     ]
    }
   ],
   "source": [
    "import requests\n",
    "import json\n",
    "import DB_functions as DBdf\n",
    "import apidae_extraction as apex\n",
    "\n",
    "project_ID = '4364'\n",
    "api_KEY = 'ALrtqQmv'\n",
    "\n",
    "list_selectionId = [\"86750\"] # Example \"86749\",,\"86751\",\"86752\",\"86753\",\"86960\",\"86961\",\"86962\",\"86963\"\n",
    "\n",
    "GPS_coordinates =[\"45.188529\",\"5.724524\"]\n",
    "radius = 30000      # 30km\n",
    "\n",
    "def retrive_data_by_selectionId(project_ID,api_KEY,list_selectionId):\n",
    "    import pandas as pd\n",
    "    result_df = pd.DataFrame(columns = ['lieu_event','names','telephone','mail','types','longitude','latitude',\n",
    "                                'adresse1','adresse2','code_postal','ville','description_teaser',\n",
    "                                'description_','images','publics','categories','accessibilité',\n",
    "                                'payant','plus_d_infos_et_horaires','date_début','date_fin']) \n",
    "    \n",
    "    url = 'http://api.apidae-tourisme.com/api/v002/recherche/list-objets-touristiques?query={'\n",
    "    url += '\"projetId\":\"'+project_ID+'\",'\n",
    "    url += '\"apiKey\":\"'+api_KEY+'\",'\n",
    "    first = True\n",
    "    for value in list_selectionId :\n",
    "        if first :\n",
    "            url += '\"selectionIds\":[\"'+value+'\"'\n",
    "            first = False\n",
    "        else :\n",
    "            url += ',\"'+value+'\"'\n",
    "    url += ']}'\n",
    "    #print(url)\n",
    "    # retrieve_data_by_id(project_ID,api_KEY,select_id)\n",
    "    req = requests.get(url)\n",
    "    df = pd.json_normalize(req.json(),'objetsTouristiques', errors='ignore')\n",
    "    \n",
    "    for index, row in df.iterrows():\n",
    "        #print(row['id'])#my first DataFrame\n",
    "        ligne_df=apex.retrieve_data_by_id(project_ID,api_KEY,str(row['id']))\n",
    "        #df = apex.append(df(index=[0]),ignore_index=True)\n",
    "        result_df = result_df.append(ligne_df)\n",
    "    return result_df\n",
    "\n",
    "Id_selection = retrive_data_by_selectionId(project_ID,api_KEY,list_selectionId)\n",
    "Id_selection\n"
   ]
  },
  {
   "cell_type": "code",
   "execution_count": 7,
   "metadata": {},
   "outputs": [
    {
     "name": "stdout",
     "output_type": "stream",
     "text": [
      "Connection : <connection object at 0x7ff7ca8dcd50; dsn: 'user=toooo password=xxx dbname=cooool host=localhost port=5432', closed: 0> Curseur : <cursor object at 0x7ff7cab2d840; closed: 0>\n"
     ]
    },
    {
     "ename": "UndefinedColumn",
     "evalue": "column \"telephone\" of relation \"cooltogo_validated\" does not exist\nLINE 1: ... Y, name, Adresse1, Adresse2, Code_postal, Ville, telephone,...\n                                                             ^\n",
     "output_type": "error",
     "traceback": [
      "\u001b[0;31m---------------------------------------------------------------------------\u001b[0m",
      "\u001b[0;31mUndefinedColumn\u001b[0m                           Traceback (most recent call last)",
      "\u001b[0;32m<ipython-input-7-781bae8783bf>\u001b[0m in \u001b[0;36m<module>\u001b[0;34m\u001b[0m\n\u001b[1;32m     20\u001b[0m \u001b[0mprint\u001b[0m\u001b[0;34m(\u001b[0m\u001b[0;34m\"Connection :\"\u001b[0m\u001b[0;34m,\u001b[0m\u001b[0mconn\u001b[0m\u001b[0;34m,\u001b[0m\u001b[0;34m\"Curseur :\"\u001b[0m\u001b[0;34m,\u001b[0m \u001b[0mcur\u001b[0m\u001b[0;34m)\u001b[0m\u001b[0;34m\u001b[0m\u001b[0;34m\u001b[0m\u001b[0m\n\u001b[1;32m     21\u001b[0m \u001b[0;34m\u001b[0m\u001b[0m\n\u001b[0;32m---> 22\u001b[0;31m \u001b[0mcur\u001b[0m\u001b[0;34m.\u001b[0m\u001b[0mexecute\u001b[0m\u001b[0;34m(\u001b[0m\u001b[0;34m\"INSERT INTO cooltogo_validated (id_apidae,Lieu_event, X, Y, name, Adresse1, Adresse2, Code_postal, Ville, telephone, email, site_web, Description_Teaser, Description, Images, Publics, styleUrl, styleHash, Type, Catégories, Accessibilité, payant, Plus_d_infos_et_horaires, Dates_début, Dates_fin) VALUES (%(id_apidae)s, %(Lieu_event)s, %(X)s, %(Y)s, %(name)s, %(Adresse1)s, %(Adresse2)s, %(Code_postal)s, %(Ville)s, %(telephone)s, %(email)s, %(site_web)s, %(Description_Teaser)s, %(Description)s,%(Images)s, %(Publics)s, %(styleUrl)s, %(styleHash)s, %(Type)s, %(Catégories)s, %(Accessibilité)s, %(payant)s, %(Plus_d_infos_et_horaires)s, %(Dates_début)s, %(Dates_fin)s) returning id;\"\u001b[0m\u001b[0;34m,\u001b[0m \u001b[0;34m{\u001b[0m\u001b[0;34m'id_apidae'\u001b[0m\u001b[0;34m:\u001b[0m \u001b[0;34m'sitraLOI332874'\u001b[0m\u001b[0;34m,\u001b[0m \u001b[0;34m'Lieu_event'\u001b[0m\u001b[0;34m:\u001b[0m \u001b[0;34m'Lieu'\u001b[0m\u001b[0;34m,\u001b[0m \u001b[0;34m'X'\u001b[0m\u001b[0;34m:\u001b[0m \u001b[0;36m45.237448\u001b[0m\u001b[0;34m,\u001b[0m \u001b[0;34m'Y'\u001b[0m\u001b[0;34m:\u001b[0m \u001b[0;36m5.679989\u001b[0m\u001b[0;34m,\u001b[0m \u001b[0;34m'name'\u001b[0m\u001b[0;34m:\u001b[0m \u001b[0;34m'Office de Tourisme de Grenoble-Alpes Métropole'\u001b[0m\u001b[0;34m,\u001b[0m \u001b[0;34m'Adresse1'\u001b[0m\u001b[0;34m:\u001b[0m \u001b[0;34m'1 rue Casimir Brenier'\u001b[0m\u001b[0;34m,\u001b[0m \u001b[0;34m'Adresse2'\u001b[0m\u001b[0;34m:\u001b[0m \u001b[0;32mNone\u001b[0m\u001b[0;34m,\u001b[0m \u001b[0;34m'Code_postal'\u001b[0m\u001b[0;34m:\u001b[0m \u001b[0;34m'38120'\u001b[0m\u001b[0;34m,\u001b[0m \u001b[0;34m'Ville'\u001b[0m\u001b[0;34m:\u001b[0m \u001b[0;34m'Saint-Égrève'\u001b[0m\u001b[0;34m,\u001b[0m \u001b[0;34m'telephone'\u001b[0m\u001b[0;34m:\u001b[0m \u001b[0;34m'04 76 75 40 63'\u001b[0m\u001b[0;34m,\u001b[0m \u001b[0;34m'email'\u001b[0m\u001b[0;34m:\u001b[0m \u001b[0;34m'bibliotheque@mairie-st-egreve.fr'\u001b[0m\u001b[0;34m,\u001b[0m \u001b[0;34m'site_web'\u001b[0m\u001b[0;34m:\u001b[0m \u001b[0;34m'http://www.bibliotheque.saint-egreve.fr'\u001b[0m\u001b[0;34m,\u001b[0m \u001b[0;34m'Description_Teaser'\u001b[0m\u001b[0;34m:\u001b[0m \u001b[0;34m\"La bibliothèque Maison de Barnave de Saint Egrève dispose d'un grand nombre de livres, revues et CD à consulter sur place ou à emporter !\"\u001b[0m\u001b[0;34m,\u001b[0m \u001b[0;34m'Description'\u001b[0m\u001b[0;34m:\u001b[0m \u001b[0;34m\"La bibliothèque Maison de Barnave de Saint Egrève dispose d'un grand nombre de livres, revues et CD à consulter sur place ou à emporter !\"\u001b[0m\u001b[0;34m,\u001b[0m \u001b[0;34m'Images'\u001b[0m\u001b[0;34m:\u001b[0m \u001b[0;34m'http://static.apidae-tourisme.com/filestore/objets-touristiques/images-principales/241/175/372721.jpeg'\u001b[0m\u001b[0;34m,\u001b[0m \u001b[0;34m'Publics'\u001b[0m\u001b[0;34m:\u001b[0m \u001b[0;32mNone\u001b[0m\u001b[0;34m,\u001b[0m \u001b[0;34m'styleUrl'\u001b[0m\u001b[0;34m:\u001b[0m \u001b[0;34m''\u001b[0m\u001b[0;34m,\u001b[0m \u001b[0;34m'styleHash'\u001b[0m\u001b[0;34m:\u001b[0m \u001b[0;34m''\u001b[0m\u001b[0;34m,\u001b[0m \u001b[0;34m'Type'\u001b[0m\u001b[0;34m:\u001b[0m \u001b[0;34m'EQUIPEMENT'\u001b[0m\u001b[0;34m,\u001b[0m \u001b[0;34m'Catégories'\u001b[0m\u001b[0;34m:\u001b[0m \u001b[0;32mNone\u001b[0m\u001b[0;34m,\u001b[0m \u001b[0;34m'Accessibilité'\u001b[0m\u001b[0;34m:\u001b[0m \u001b[0;34m'Accessible en fauteuil roulant en autonomie'\u001b[0m\u001b[0;34m,\u001b[0m \u001b[0;34m'payant'\u001b[0m\u001b[0;34m:\u001b[0m \u001b[0;32mTrue\u001b[0m\u001b[0;34m,\u001b[0m \u001b[0;34m'Plus_d_infos_et_horaires'\u001b[0m\u001b[0;34m:\u001b[0m \u001b[0;34m'http://www.grenoble-tourisme.com'\u001b[0m\u001b[0;34m,\u001b[0m \u001b[0;34m'Dates_début'\u001b[0m\u001b[0;34m:\u001b[0m \u001b[0mdatetime\u001b[0m\u001b[0;34m.\u001b[0m\u001b[0mdate\u001b[0m\u001b[0;34m(\u001b[0m\u001b[0;36m2012\u001b[0m\u001b[0;34m,\u001b[0m \u001b[0;36m1\u001b[0m\u001b[0;34m,\u001b[0m \u001b[0;36m1\u001b[0m\u001b[0;34m)\u001b[0m\u001b[0;34m,\u001b[0m \u001b[0;34m'Dates_fin'\u001b[0m\u001b[0;34m:\u001b[0m \u001b[0mdatetime\u001b[0m\u001b[0;34m.\u001b[0m\u001b[0mdate\u001b[0m\u001b[0;34m(\u001b[0m\u001b[0;36m2012\u001b[0m\u001b[0;34m,\u001b[0m \u001b[0;36m12\u001b[0m\u001b[0;34m,\u001b[0m \u001b[0;36m31\u001b[0m\u001b[0;34m)\u001b[0m\u001b[0;34m}\u001b[0m\u001b[0;34m)\u001b[0m\u001b[0;34m\u001b[0m\u001b[0;34m\u001b[0m\u001b[0m\n\u001b[0m",
      "\u001b[0;32m~/.local/share/virtualenvs/CoolToGo-zkZVXMnZ/lib/python3.8/site-packages/psycopg2/extras.py\u001b[0m in \u001b[0;36mexecute\u001b[0;34m(self, query, vars)\u001b[0m\n\u001b[1;32m    141\u001b[0m         \u001b[0mself\u001b[0m\u001b[0;34m.\u001b[0m\u001b[0mindex\u001b[0m \u001b[0;34m=\u001b[0m \u001b[0mOrderedDict\u001b[0m\u001b[0;34m(\u001b[0m\u001b[0;34m)\u001b[0m\u001b[0;34m\u001b[0m\u001b[0;34m\u001b[0m\u001b[0m\n\u001b[1;32m    142\u001b[0m         \u001b[0mself\u001b[0m\u001b[0;34m.\u001b[0m\u001b[0m_query_executed\u001b[0m \u001b[0;34m=\u001b[0m \u001b[0;32mTrue\u001b[0m\u001b[0;34m\u001b[0m\u001b[0;34m\u001b[0m\u001b[0m\n\u001b[0;32m--> 143\u001b[0;31m         \u001b[0;32mreturn\u001b[0m \u001b[0msuper\u001b[0m\u001b[0;34m(\u001b[0m\u001b[0mDictCursor\u001b[0m\u001b[0;34m,\u001b[0m \u001b[0mself\u001b[0m\u001b[0;34m)\u001b[0m\u001b[0;34m.\u001b[0m\u001b[0mexecute\u001b[0m\u001b[0;34m(\u001b[0m\u001b[0mquery\u001b[0m\u001b[0;34m,\u001b[0m \u001b[0mvars\u001b[0m\u001b[0;34m)\u001b[0m\u001b[0;34m\u001b[0m\u001b[0;34m\u001b[0m\u001b[0m\n\u001b[0m\u001b[1;32m    144\u001b[0m \u001b[0;34m\u001b[0m\u001b[0m\n\u001b[1;32m    145\u001b[0m     \u001b[0;32mdef\u001b[0m \u001b[0mcallproc\u001b[0m\u001b[0;34m(\u001b[0m\u001b[0mself\u001b[0m\u001b[0;34m,\u001b[0m \u001b[0mprocname\u001b[0m\u001b[0;34m,\u001b[0m \u001b[0mvars\u001b[0m\u001b[0;34m=\u001b[0m\u001b[0;32mNone\u001b[0m\u001b[0;34m)\u001b[0m\u001b[0;34m:\u001b[0m\u001b[0;34m\u001b[0m\u001b[0;34m\u001b[0m\u001b[0m\n",
      "\u001b[0;31mUndefinedColumn\u001b[0m: column \"telephone\" of relation \"cooltogo_validated\" does not exist\nLINE 1: ... Y, name, Adresse1, Adresse2, Code_postal, Ville, telephone,...\n                                                             ^\n"
     ]
    }
   ],
   "source": [
    "import psycopg2, psycopg2.extras, sys\n",
    "from psycopg2 import Error\n",
    "import socket\n",
    "from sqlalchemy import create_engine\n",
    "import datetime\n",
    "\n",
    "global conn\n",
    "global cur\n",
    "try:\n",
    "    if socket.gethostname()==\"zahra-ThinkPad-T440\" :\n",
    "        # Connection parameters on localhost\n",
    "        conn = psycopg2.connect(dbname=\"cooool\", user=\"toooo\", password=\"goooo\", host=\"localhost\", port=\"5432\")    \n",
    "    else :\n",
    "        # Connection parameters on Heroku\n",
    "        conn = psycopg2.connect(dbname=\"d74ievmpccqdh6\", user=\"pecrslpcwmptbf\", password=\"3f48aaeb90fa4b6b1aa0d93cd78e67635047214b80b323c584fabcc29b66a160\", host=\"ec2-46-137-177-160.eu-west-1.compute.amazonaws.com\", port=\"5432\")\n",
    "except:\n",
    "    print(\"connection impossible !\")\n",
    "    sys.exit()\n",
    "cur = conn.cursor(cursor_factory = psycopg2.extras.DictCursor)\n",
    "print(\"Connection :\",conn,\"Curseur :\", cur)\n",
    "\n",
    "cur.execute(\"INSERT INTO cooltogo_validated (id_apidae,Lieu_event, X, Y, name, Adresse1, Adresse2, Code_postal, Ville, telephone, email, site_web, Description_Teaser, Description, Images, Publics, styleUrl, styleHash, Type, Catégories, Accessibilité, payant, Plus_d_infos_et_horaires, Dates_début, Dates_fin) VALUES (%(id_apidae)s, %(Lieu_event)s, %(X)s, %(Y)s, %(name)s, %(Adresse1)s, %(Adresse2)s, %(Code_postal)s, %(Ville)s, %(telephone)s, %(email)s, %(site_web)s, %(Description_Teaser)s, %(Description)s,%(Images)s, %(Publics)s, %(styleUrl)s, %(styleHash)s, %(Type)s, %(Catégories)s, %(Accessibilité)s, %(payant)s, %(Plus_d_infos_et_horaires)s, %(Dates_début)s, %(Dates_fin)s) returning id;\", {'id_apidae': 'sitraLOI332874', 'Lieu_event': 'Lieu', 'X': 45.237448, 'Y': 5.679989, 'name': 'Office de Tourisme de Grenoble-Alpes Métropole', 'Adresse1': '1 rue Casimir Brenier', 'Adresse2': None, 'Code_postal': '38120', 'Ville': 'Saint-Égrève', 'telephone': '04 76 75 40 63', 'email': 'bibliotheque@mairie-st-egreve.fr', 'site_web': 'http://www.bibliotheque.saint-egreve.fr', 'Description_Teaser': \"La bibliothèque Maison de Barnave de Saint Egrève dispose d'un grand nombre de livres, revues et CD à consulter sur place ou à emporter !\", 'Description': \"La bibliothèque Maison de Barnave de Saint Egrève dispose d'un grand nombre de livres, revues et CD à consulter sur place ou à emporter !\", 'Images': 'http://static.apidae-tourisme.com/filestore/objets-touristiques/images-principales/241/175/372721.jpeg', 'Publics': None, 'styleUrl': '', 'styleHash': '', 'Type': 'EQUIPEMENT', 'Catégories': None, 'Accessibilité': 'Accessible en fauteuil roulant en autonomie', 'payant': True, 'Plus_d_infos_et_horaires': 'http://www.grenoble-tourisme.com', 'Dates_début': datetime.date(2012, 1, 1), 'Dates_fin': datetime.date(2012, 12, 31)})"
   ]
  },
  {
   "cell_type": "code",
   "execution_count": null,
   "metadata": {},
   "outputs": [],
   "source": []
  }
 ],
 "metadata": {
  "kernelspec": {
   "display_name": "Python 3",
   "language": "python",
   "name": "python3"
  },
  "language_info": {
   "codemirror_mode": {
    "name": "ipython",
    "version": 3
   },
   "file_extension": ".py",
   "mimetype": "text/x-python",
   "name": "python",
   "nbconvert_exporter": "python",
   "pygments_lexer": "ipython3",
   "version": "3.8.1"
  }
 },
 "nbformat": 4,
 "nbformat_minor": 4
}
