{
 "cells": [
  {
   "cell_type": "code",
   "execution_count": null,
   "metadata": {},
   "outputs": [],
   "source": [
    "# A continuous index value will be maintained \n",
    "# across the rows in the new appended data frame. \n",
    "# for appending df2 at the end of df1 \n",
    "df1.append(df2, ignore_index = True) "
   ]
  },
  {
   "cell_type": "code",
   "execution_count": null,
   "metadata": {},
   "outputs": [],
   "source": [
    "# for tables\n",
    "https://www.w3schools.com/css/tryit.asp?filename=trycss_table_fancy"
   ]
  },
  {
   "cell_type": "code",
   "execution_count": null,
   "metadata": {},
   "outputs": [],
   "source": [
    "# How to get \"value\" from format json\n",
    "https://pynative.com/python-check-if-key-exists-in-json-and-iterate-the-json-array/\n",
    "    \n",
    "if 'class' in sampleDict:\n",
    "    if 'student' in sampleDict['class']:\n",
    "        if 'marks' in sampleDict['class']['student']:\n",
    "            print(\"Printing nested JSON key-value\")\n",
    "            print(sampleDict['class']['student']['marks']) "
   ]
  },
  {
   "cell_type": "code",
   "execution_count": null,
   "metadata": {},
   "outputs": [],
   "source": [
    "# append values\n",
    "\"\"\"pandas.DataFrame.iterrows\"\"\"\n",
    "https://pandas.pydata.org/pandas-docs/stable/reference/api/pandas.DataFrame.iterrows.html"
   ]
  },
  {
   "cell_type": "code",
   "execution_count": null,
   "metadata": {},
   "outputs": [],
   "source": [
    "https://www.w3schools.com/xml/ajax_database.asp"
   ]
  },
  {
   "cell_type": "code",
   "execution_count": null,
   "metadata": {},
   "outputs": [],
   "source": [
    "https://datatables.net/examples/styling/bootstrap4"
   ]
  },
  {
   "cell_type": "code",
   "execution_count": null,
   "metadata": {},
   "outputs": [],
   "source": [
    "# warning environment production during flask run \n",
    "export FLASK_ENV=development\n",
    "flask run"
   ]
  },
  {
   "cell_type": "code",
   "execution_count": null,
   "metadata": {},
   "outputs": [],
   "source": []
  }
 ],
 "metadata": {
  "kernelspec": {
   "display_name": "Python 3",
   "language": "python",
   "name": "python3"
  },
  "language_info": {
   "codemirror_mode": {
    "name": "ipython",
    "version": 3
   },
   "file_extension": ".py",
   "mimetype": "text/x-python",
   "name": "python",
   "nbconvert_exporter": "python",
   "pygments_lexer": "ipython3",
   "version": "3.8.1"
  }
 },
 "nbformat": 4,
 "nbformat_minor": 4
}
