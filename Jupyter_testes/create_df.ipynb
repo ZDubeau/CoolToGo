{
 "cells": [
  {
   "cell_type": "code",
   "execution_count": 2,
   "metadata": {},
   "outputs": [],
   "source": [
    "import pandas as pd "
   ]
  },
  {
   "cell_type": "raw",
   "metadata": {},
   "source": [
    "'id','Lieu_Event','Name_','Type_','Latitude','Longitude',\n",
    "'Adresse1','Adresse2','Code_postal','Ville','Description_Teaser',\n",
    "'Description_','Image_','Publics','Categories','Accessibilité',\n",
    "'Payant','Plus_d_infos_et_horaires','Date_début','Date_fin'"
   ]
  },
  {
   "cell_type": "raw",
   "metadata": {},
   "source": [
    "data = [['id'], ['Lieu_Event'], ['Name_'], ['Latitude'], \n",
    "        ['Longitude'], ['Adresse1'], ['Adresse2'], ['Code_postal'], \n",
    "        ['Ville'], ['Description_Teaser'], ['Description_'], \n",
    "        ['Image_'], ['Publics'], ['Categories'], ['Accessibilité'], \n",
    "        ['Payant'], ['Plus_d_infos_et_horaires'], ['Date_début'], ['Date_fin']]"
   ]
  },
  {
   "cell_type": "code",
   "execution_count": 6,
   "metadata": {},
   "outputs": [],
   "source": [
    "df = pd.DataFrame(columns = ['id','Lieu_Event','Names','Types','Latitude','Longitude',\n",
    "'Adresse1','Adresse2','Code_postal','Ville','Description_Teaser',\n",
    "'Description_','Image_','Publics','Categories','Accessibilité',\n",
    "'Payant','Plus_d_infos_et_horaires','Date_début','Date_fin']) "
   ]
  },
  {
   "cell_type": "code",
   "execution_count": 7,
   "metadata": {},
   "outputs": [
    {
     "data": {
      "text/html": [
       "<div>\n",
       "<style scoped>\n",
       "    .dataframe tbody tr th:only-of-type {\n",
       "        vertical-align: middle;\n",
       "    }\n",
       "\n",
       "    .dataframe tbody tr th {\n",
       "        vertical-align: top;\n",
       "    }\n",
       "\n",
       "    .dataframe thead th {\n",
       "        text-align: right;\n",
       "    }\n",
       "</style>\n",
       "<table border=\"1\" class=\"dataframe\">\n",
       "  <thead>\n",
       "    <tr style=\"text-align: right;\">\n",
       "      <th></th>\n",
       "      <th>id</th>\n",
       "      <th>Lieu_Event</th>\n",
       "      <th>Names</th>\n",
       "      <th>Types</th>\n",
       "      <th>Latitude</th>\n",
       "      <th>Longitude</th>\n",
       "      <th>Adresse1</th>\n",
       "      <th>Adresse2</th>\n",
       "      <th>Code_postal</th>\n",
       "      <th>Ville</th>\n",
       "      <th>Description_Teaser</th>\n",
       "      <th>Description_</th>\n",
       "      <th>Image_</th>\n",
       "      <th>Publics</th>\n",
       "      <th>Categories</th>\n",
       "      <th>Accessibilité</th>\n",
       "      <th>Payant</th>\n",
       "      <th>Plus_d_infos_et_horaires</th>\n",
       "      <th>Date_début</th>\n",
       "      <th>Date_fin</th>\n",
       "    </tr>\n",
       "  </thead>\n",
       "  <tbody>\n",
       "  </tbody>\n",
       "</table>\n",
       "</div>"
      ],
      "text/plain": [
       "Empty DataFrame\n",
       "Columns: [id, Lieu_Event, Names, Types, Latitude, Longitude, Adresse1, Adresse2, Code_postal, Ville, Description_Teaser, Description_, Image_, Publics, Categories, Accessibilité, Payant, Plus_d_infos_et_horaires, Date_début, Date_fin]\n",
       "Index: []"
      ]
     },
     "execution_count": 7,
     "metadata": {},
     "output_type": "execute_result"
    }
   ],
   "source": [
    "df"
   ]
  },
  {
   "cell_type": "code",
   "execution_count": null,
   "metadata": {},
   "outputs": [],
   "source": []
  }
 ],
 "metadata": {
  "kernelspec": {
   "display_name": "Python 3",
   "language": "python",
   "name": "python3"
  },
  "language_info": {
   "codemirror_mode": {
    "name": "ipython",
    "version": 3
   },
   "file_extension": ".py",
   "mimetype": "text/x-python",
   "name": "python",
   "nbconvert_exporter": "python",
   "pygments_lexer": "ipython3",
   "version": "3.8.1"
  }
 },
 "nbformat": 4,
 "nbformat_minor": 4
}
