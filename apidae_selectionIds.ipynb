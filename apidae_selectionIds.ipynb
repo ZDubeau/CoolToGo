{
 "cells": [
  {
   "cell_type": "code",
   "execution_count": 2,
   "metadata": {
    "scrolled": true
   },
   "outputs": [
    {
     "ename": "TypeError",
     "evalue": "unhashable type: 'list'",
     "output_type": "error",
     "traceback": [
      "\u001b[0;31m---------------------------------------------------------------------------\u001b[0m",
      "\u001b[0;31mTypeError\u001b[0m                                 Traceback (most recent call last)",
      "\u001b[0;32m<ipython-input-2-c8b8dc7b3394>\u001b[0m in \u001b[0;36m<module>\u001b[0;34m\u001b[0m\n\u001b[1;32m     42\u001b[0m     \u001b[0;32mreturn\u001b[0m \u001b[0mresult_df\u001b[0m\u001b[0;34m\u001b[0m\u001b[0;34m\u001b[0m\u001b[0m\n\u001b[1;32m     43\u001b[0m \u001b[0;34m\u001b[0m\u001b[0m\n\u001b[0;32m---> 44\u001b[0;31m \u001b[0mId_selection\u001b[0m \u001b[0;34m=\u001b[0m \u001b[0mretrive_data_by_selectionId\u001b[0m\u001b[0;34m(\u001b[0m\u001b[0mproject_ID\u001b[0m\u001b[0;34m,\u001b[0m\u001b[0mapi_KEY\u001b[0m\u001b[0;34m,\u001b[0m\u001b[0mlist_selectionId\u001b[0m\u001b[0;34m)\u001b[0m\u001b[0;34m\u001b[0m\u001b[0;34m\u001b[0m\u001b[0m\n\u001b[0m\u001b[1;32m     45\u001b[0m \u001b[0mId_selection\u001b[0m\u001b[0;34m\u001b[0m\u001b[0;34m\u001b[0m\u001b[0m\n",
      "\u001b[0;32m<ipython-input-2-c8b8dc7b3394>\u001b[0m in \u001b[0;36mretrive_data_by_selectionId\u001b[0;34m(project_ID, api_KEY, list_selectionId)\u001b[0m\n\u001b[1;32m     37\u001b[0m     \u001b[0;32mfor\u001b[0m \u001b[0mindex\u001b[0m\u001b[0;34m,\u001b[0m \u001b[0mrow\u001b[0m \u001b[0;32min\u001b[0m \u001b[0mdf\u001b[0m\u001b[0;34m.\u001b[0m\u001b[0miterrows\u001b[0m\u001b[0;34m(\u001b[0m\u001b[0;34m)\u001b[0m\u001b[0;34m:\u001b[0m\u001b[0;34m\u001b[0m\u001b[0;34m\u001b[0m\u001b[0m\n\u001b[1;32m     38\u001b[0m         \u001b[0;31m#print(row['id'])#my first DataFrame\u001b[0m\u001b[0;34m\u001b[0m\u001b[0;34m\u001b[0m\u001b[0;34m\u001b[0m\u001b[0m\n\u001b[0;32m---> 39\u001b[0;31m         \u001b[0mligne_df\u001b[0m\u001b[0;34m=\u001b[0m\u001b[0mapex\u001b[0m\u001b[0;34m.\u001b[0m\u001b[0mretrieve_data_by_id\u001b[0m\u001b[0;34m(\u001b[0m\u001b[0mproject_ID\u001b[0m\u001b[0;34m,\u001b[0m\u001b[0mapi_KEY\u001b[0m\u001b[0;34m,\u001b[0m\u001b[0mstr\u001b[0m\u001b[0;34m(\u001b[0m\u001b[0mrow\u001b[0m\u001b[0;34m[\u001b[0m\u001b[0;34m'id'\u001b[0m\u001b[0;34m]\u001b[0m\u001b[0;34m)\u001b[0m\u001b[0;34m)\u001b[0m\u001b[0;34m\u001b[0m\u001b[0;34m\u001b[0m\u001b[0m\n\u001b[0m\u001b[1;32m     40\u001b[0m         \u001b[0;31m#df = apex.append(df(index=[0]),ignore_index=True)\u001b[0m\u001b[0;34m\u001b[0m\u001b[0;34m\u001b[0m\u001b[0;34m\u001b[0m\u001b[0m\n\u001b[1;32m     41\u001b[0m         \u001b[0mresult_df\u001b[0m \u001b[0;34m=\u001b[0m \u001b[0mresult_df\u001b[0m\u001b[0;34m.\u001b[0m\u001b[0mappend\u001b[0m\u001b[0;34m(\u001b[0m\u001b[0mligne_df\u001b[0m\u001b[0;34m)\u001b[0m\u001b[0;34m\u001b[0m\u001b[0;34m\u001b[0m\u001b[0m\n",
      "\u001b[0;32m~/Simplon/Gitlab/CoolToGo/apidae_extraction.py\u001b[0m in \u001b[0;36mretrieve_data_by_id\u001b[0;34m(project_ID, api_KEY, select_id)\u001b[0m\n\u001b[1;32m     96\u001b[0m                     \u001b[0mdict_for_id\u001b[0m\u001b[0;34m[\u001b[0m\u001b[0;34m'code_postal'\u001b[0m\u001b[0;34m]\u001b[0m \u001b[0;34m=\u001b[0m \u001b[0mreq\u001b[0m\u001b[0;34m[\u001b[0m\u001b[0;34m'localisation'\u001b[0m\u001b[0;34m]\u001b[0m\u001b[0;34m[\u001b[0m\u001b[0;34m'adresse'\u001b[0m\u001b[0;34m]\u001b[0m\u001b[0;34m[\u001b[0m\u001b[0;34m'codePostal'\u001b[0m\u001b[0;34m]\u001b[0m\u001b[0;34m\u001b[0m\u001b[0;34m\u001b[0m\u001b[0m\n\u001b[1;32m     97\u001b[0m \u001b[0;34m\u001b[0m\u001b[0m\n\u001b[0;32m---> 98\u001b[0;31m                     \u001b[0;32mif\u001b[0m \u001b[0;34m[\u001b[0m\u001b[0;34m'nom'\u001b[0m\u001b[0;34m]\u001b[0m \u001b[0;32min\u001b[0m \u001b[0mreq\u001b[0m\u001b[0;34m[\u001b[0m\u001b[0;34m'localisation'\u001b[0m\u001b[0;34m]\u001b[0m\u001b[0;34m[\u001b[0m\u001b[0;34m'adresse'\u001b[0m\u001b[0;34m]\u001b[0m\u001b[0;34m[\u001b[0m\u001b[0;34m'commune'\u001b[0m\u001b[0;34m]\u001b[0m\u001b[0;34m:\u001b[0m\u001b[0;34m\u001b[0m\u001b[0;34m\u001b[0m\u001b[0m\n\u001b[0m\u001b[1;32m     99\u001b[0m                         \u001b[0mdict_for_id\u001b[0m\u001b[0;34m[\u001b[0m\u001b[0;34m'ville'\u001b[0m\u001b[0;34m]\u001b[0m \u001b[0;34m=\u001b[0m \u001b[0mreq\u001b[0m\u001b[0;34m[\u001b[0m\u001b[0;34m'localisation'\u001b[0m\u001b[0;34m]\u001b[0m\u001b[0;34m[\u001b[0m\u001b[0;34m'adresse'\u001b[0m\u001b[0;34m]\u001b[0m\u001b[0;34m[\u001b[0m\u001b[0;34m'commune'\u001b[0m\u001b[0;34m]\u001b[0m\u001b[0;34m[\u001b[0m\u001b[0;34m'nom'\u001b[0m\u001b[0;34m]\u001b[0m\u001b[0;34m\u001b[0m\u001b[0;34m\u001b[0m\u001b[0m\n\u001b[1;32m    100\u001b[0m                     \u001b[0;32melse\u001b[0m\u001b[0;34m:\u001b[0m\u001b[0;34m\u001b[0m\u001b[0;34m\u001b[0m\u001b[0m\n",
      "\u001b[0;31mTypeError\u001b[0m: unhashable type: 'list'"
     ]
    }
   ],
   "source": [
    "import requests\n",
    "import json\n",
    "import DB_func as DBdf\n",
    "import apidae_extraction as apex\n",
    "\n",
    "project_ID = '4364'\n",
    "api_KEY = 'ALrtqQmv'\n",
    "\n",
    "list_selectionId = [\"86750\"] # Example \"86749\",,\"86751\",\"86752\",\"86753\",\"86960\",\"86961\",\"86962\",\"86963\"\n",
    "\n",
    "GPS_coordinates =[\"45.188529\",\"5.724524\"]\n",
    "radius = 30000      # 30km\n",
    "\n",
    "def retrive_data_by_selectionId(project_ID,api_KEY,list_selectionId):\n",
    "    import pandas as pd\n",
    "    result_df = pd.DataFrame(columns = ['lieu_event','names','types','longitude','latitude',\n",
    "                                'adresse1','adresse2','code_postal','ville','description_teaser',\n",
    "                                'description_','images','publics','categories','accessibilité',\n",
    "                                'payant','plus_d_infos_et_horaires','date_début','date_fin']) \n",
    "    \n",
    "    url = 'http://api.apidae-tourisme.com/api/v002/recherche/list-objets-touristiques?query={'\n",
    "    url += '\"projetId\":\"'+project_ID+'\",'\n",
    "    url += '\"apiKey\":\"'+api_KEY+'\",'\n",
    "    first = True\n",
    "    for value in list_selectionId :\n",
    "        if first :\n",
    "            url += '\"selectionIds\":[\"'+value+'\"'\n",
    "            first = False\n",
    "        else :\n",
    "            url += ',\"'+value+'\"'\n",
    "    url += ']}'\n",
    "    #print(url)\n",
    "    # retrieve_data_by_id(project_ID,api_KEY,select_id)\n",
    "    req = requests.get(url)\n",
    "    df = pd.json_normalize(req.json(),'objetsTouristiques', errors='ignore')\n",
    "    \n",
    "    for index, row in df.iterrows():\n",
    "        #print(row['id'])#my first DataFrame\n",
    "        ligne_df=apex.retrieve_data_by_id(project_ID,api_KEY,str(row['id']))\n",
    "        #df = apex.append(df(index=[0]),ignore_index=True)\n",
    "        result_df = result_df.append(ligne_df)\n",
    "    return result_df\n",
    "\n",
    "Id_selection = retrive_data_by_selectionId(project_ID,api_KEY,list_selectionId)\n",
    "Id_selection\n"
   ]
  },
  {
   "cell_type": "code",
   "execution_count": 1,
   "metadata": {},
   "outputs": [
    {
     "ename": "NameError",
     "evalue": "name 'retrive_data_by_selectionId' is not defined",
     "output_type": "error",
     "traceback": [
      "\u001b[0;31m---------------------------------------------------------------------------\u001b[0m",
      "\u001b[0;31mNameError\u001b[0m                                 Traceback (most recent call last)",
      "\u001b[0;32m<ipython-input-1-ffd7f3e91fde>\u001b[0m in \u001b[0;36m<module>\u001b[0;34m\u001b[0m\n\u001b[0;32m----> 1\u001b[0;31m \u001b[0mprint\u001b[0m\u001b[0;34m(\u001b[0m\u001b[0mretrive_data_by_selectionId\u001b[0m\u001b[0;34m(\u001b[0m\u001b[0mproject_ID\u001b[0m\u001b[0;34m,\u001b[0m\u001b[0mapi_KEY\u001b[0m\u001b[0;34m,\u001b[0m\u001b[0mlist_selectionId\u001b[0m\u001b[0;34m)\u001b[0m\u001b[0;34m)\u001b[0m\u001b[0;34m\u001b[0m\u001b[0;34m\u001b[0m\u001b[0m\n\u001b[0m",
      "\u001b[0;31mNameError\u001b[0m: name 'retrive_data_by_selectionId' is not defined"
     ]
    }
   ],
   "source": [
    "print(retrive_data_by_selectionId(project_ID,api_KEY,list_selectionId))"
   ]
  },
  {
   "cell_type": "code",
   "execution_count": null,
   "metadata": {},
   "outputs": [],
   "source": []
  }
 ],
 "metadata": {
  "kernelspec": {
   "display_name": "Python 3",
   "language": "python",
   "name": "python3"
  },
  "language_info": {
   "codemirror_mode": {
    "name": "ipython",
    "version": 3
   },
   "file_extension": ".py",
   "mimetype": "text/x-python",
   "name": "python",
   "nbconvert_exporter": "python",
   "pygments_lexer": "ipython3",
   "version": "3.8.1"
  }
 },
 "nbformat": 4,
 "nbformat_minor": 4
}
